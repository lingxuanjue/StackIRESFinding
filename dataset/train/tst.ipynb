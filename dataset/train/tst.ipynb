{
 "cells": [
  {
   "cell_type": "code",
   "execution_count": 1,
   "metadata": {
    "collapsed": true,
    "ExecuteTime": {
     "start_time": "2025-10-29T09:36:48.579580Z",
     "end_time": "2025-10-29T09:36:49.762866Z"
    }
   },
   "outputs": [],
   "source": [
    "import numpy as np"
   ]
  },
  {
   "cell_type": "code",
   "execution_count": 2,
   "outputs": [
    {
     "data": {
      "text/plain": "{0: 0, 1: 1}"
     },
     "execution_count": 2,
     "metadata": {},
     "output_type": "execute_result"
    }
   ],
   "source": [
    "train = np.load('../train/train_set.npz')\n",
    "train_unique, train_counts = np.unique(train['y_tra'], return_counts=True)\n",
    "dict(zip(train_unique, train_unique))"
   ],
   "metadata": {
    "collapsed": false,
    "ExecuteTime": {
     "start_time": "2025-10-29T09:36:55.025975Z",
     "end_time": "2025-10-29T09:36:55.068807Z"
    }
   }
  },
  {
   "cell_type": "code",
   "execution_count": 3,
   "outputs": [
    {
     "name": "stdout",
     "output_type": "stream",
     "text": [
      "[[1 3 1 ... 1 1 2]\n",
      " [4 3 3 ... 2 4 2]\n",
      " [1 2 1 ... 2 2 4]\n",
      " ...\n",
      " [4 1 3 ... 4 3 3]\n",
      " [1 1 4 ... 4 2 4]\n",
      " [2 2 2 ... 2 4 3]]\n"
     ]
    }
   ],
   "source": [
    "print(train['X_tra'])"
   ],
   "metadata": {
    "collapsed": false,
    "ExecuteTime": {
     "start_time": "2025-10-29T09:37:01.645011Z",
     "end_time": "2025-10-29T09:37:01.684672Z"
    }
   }
  },
  {
   "cell_type": "code",
   "execution_count": 19,
   "outputs": [
    {
     "data": {
      "text/plain": "{0: 189, 1: 189}"
     },
     "execution_count": 19,
     "metadata": {},
     "output_type": "execute_result"
    }
   ],
   "source": [
    "test_balance = np.load('../test/balanced_test_set.npz')\n",
    "balance_unique, balance_counts = np.unique(test_balance['y_tes'], return_counts=True)\n",
    "dict(zip(balance_unique, balance_counts))"
   ],
   "metadata": {
    "collapsed": false,
    "ExecuteTime": {
     "start_time": "2025-09-16T16:05:32.423051Z",
     "end_time": "2025-09-16T16:05:32.445186Z"
    }
   }
  },
  {
   "cell_type": "code",
   "execution_count": 31,
   "outputs": [
    {
     "name": "stdout",
     "output_type": "stream",
     "text": [
      "[[0]\n",
      " [0]\n",
      " [0]\n",
      " ...\n",
      " [0]\n",
      " [0]\n",
      " [1]]\n"
     ]
    }
   ],
   "source": [
    "print(test_balance['y_tes'])"
   ],
   "metadata": {
    "collapsed": false,
    "ExecuteTime": {
     "start_time": "2025-09-16T16:15:51.202820Z",
     "end_time": "2025-09-16T16:15:51.218607Z"
    }
   }
  },
  {
   "cell_type": "code",
   "execution_count": 24,
   "outputs": [
    {
     "name": "stdout",
     "output_type": "stream",
     "text": [
      "[[0]\n",
      " [0]\n",
      " [0]\n",
      " ...\n",
      " [0]\n",
      " [0]\n",
      " [1]]\n"
     ]
    }
   ],
   "source": [
    "print(test_balance['y_tes'])"
   ],
   "metadata": {
    "collapsed": false,
    "ExecuteTime": {
     "start_time": "2025-09-16T16:07:57.020486Z",
     "end_time": "2025-09-16T16:07:57.035870Z"
    }
   }
  },
  {
   "cell_type": "code",
   "execution_count": 20,
   "outputs": [
    {
     "data": {
      "text/plain": "{0: 1664, 1: 189}"
     },
     "execution_count": 20,
     "metadata": {},
     "output_type": "execute_result"
    }
   ],
   "source": [
    "test_balance = np.load('../test/imbalanced_test_set.npz')\n",
    "imbalance_unique, imbalance_counts = np.unique(test_balance['y_tes'], return_counts=True)\n",
    "dict(zip(imbalance_unique, imbalance_counts))"
   ],
   "metadata": {
    "collapsed": false,
    "ExecuteTime": {
     "start_time": "2025-09-16T16:05:58.643441Z",
     "end_time": "2025-09-16T16:05:58.670243Z"
    }
   }
  },
  {
   "cell_type": "code",
   "execution_count": 3,
   "outputs": [
    {
     "name": "stdout",
     "output_type": "stream",
     "text": [
      "数组形状: (16674, 1)\n",
      "数组维度: 2\n",
      "数据类型: int64\n",
      "唯一值: [0 1]\n",
      "数量统计: [14946  1728]\n"
     ]
    }
   ],
   "source": [
    "import numpy as np\n",
    "\n",
    "# 查看数组的维度和形状\n",
    "print(\"数组形状:\", train['y_tra'].shape)\n",
    "print(\"数组维度:\", train['y_tra'].ndim)\n",
    "\n",
    "# 查看数据类型\n",
    "print(\"数据类型:\", train['y_tra'].dtype)\n",
    "\n",
    "# 查看唯一值和数量统计\n",
    "unique_values, counts = np.unique(train['y_tra'], return_counts=True)\n",
    "print(\"唯一值:\", unique_values)\n",
    "print(\"数量统计:\", counts)"
   ],
   "metadata": {
    "collapsed": false,
    "ExecuteTime": {
     "start_time": "2025-09-16T16:21:58.345854Z",
     "end_time": "2025-09-16T16:21:58.366275Z"
    }
   }
  },
  {
   "cell_type": "code",
   "execution_count": null,
   "outputs": [],
   "source": [],
   "metadata": {
    "collapsed": false
   }
  },
  {
   "cell_type": "code",
   "execution_count": null,
   "outputs": [],
   "source": [],
   "metadata": {
    "collapsed": false
   }
  },
  {
   "cell_type": "code",
   "execution_count": null,
   "outputs": [],
   "source": [],
   "metadata": {
    "collapsed": false
   }
  },
  {
   "cell_type": "code",
   "execution_count": null,
   "outputs": [],
   "source": [],
   "metadata": {
    "collapsed": false
   }
  },
  {
   "cell_type": "code",
   "execution_count": null,
   "outputs": [],
   "source": [],
   "metadata": {
    "collapsed": false
   }
  },
  {
   "cell_type": "code",
   "execution_count": null,
   "outputs": [],
   "source": [],
   "metadata": {
    "collapsed": false
   }
  },
  {
   "cell_type": "code",
   "execution_count": null,
   "outputs": [],
   "source": [],
   "metadata": {
    "collapsed": false
   }
  },
  {
   "cell_type": "code",
   "execution_count": null,
   "outputs": [],
   "source": [],
   "metadata": {
    "collapsed": false
   }
  },
  {
   "cell_type": "code",
   "execution_count": null,
   "outputs": [],
   "source": [],
   "metadata": {
    "collapsed": false
   }
  },
  {
   "cell_type": "code",
   "execution_count": null,
   "outputs": [],
   "source": [],
   "metadata": {
    "collapsed": false
   }
  },
  {
   "cell_type": "code",
   "execution_count": 1,
   "outputs": [],
   "source": [
    "import pandas as pd\n",
    "data = pd.read_csv('train_set.csv')\n",
    "# 导出为FASTA格式\n",
    "with open('output.fasta', 'w') as f:\n",
    "    for idx, row in data.iterrows():\n",
    "        f.write(f'>{row[\"label\"]}\\n{row[\"seq\"]}\\n')"
   ],
   "metadata": {
    "collapsed": false,
    "ExecuteTime": {
     "start_time": "2025-10-22T08:19:43.957729Z",
     "end_time": "2025-10-22T08:19:47.494072Z"
    }
   }
  },
  {
   "cell_type": "code",
   "execution_count": null,
   "outputs": [],
   "source": [],
   "metadata": {
    "collapsed": false
   }
  },
  {
   "cell_type": "code",
   "execution_count": null,
   "outputs": [],
   "source": [],
   "metadata": {
    "collapsed": false
   }
  },
  {
   "cell_type": "code",
   "execution_count": null,
   "outputs": [],
   "source": [],
   "metadata": {
    "collapsed": false
   }
  },
  {
   "cell_type": "code",
   "execution_count": null,
   "outputs": [],
   "source": [],
   "metadata": {
    "collapsed": false
   }
  },
  {
   "cell_type": "code",
   "execution_count": null,
   "outputs": [],
   "source": [],
   "metadata": {
    "collapsed": false
   }
  }
 ],
 "metadata": {
  "kernelspec": {
   "display_name": "Python 3",
   "language": "python",
   "name": "python3"
  },
  "language_info": {
   "codemirror_mode": {
    "name": "ipython",
    "version": 2
   },
   "file_extension": ".py",
   "mimetype": "text/x-python",
   "name": "python",
   "nbconvert_exporter": "python",
   "pygments_lexer": "ipython2",
   "version": "2.7.6"
  }
 },
 "nbformat": 4,
 "nbformat_minor": 0
}
